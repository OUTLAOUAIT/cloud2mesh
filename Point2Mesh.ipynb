{
  "nbformat": 4,
  "nbformat_minor": 0,
  "metadata": {
    "colab": {
      "provenance": [],
      "gpuType": "T4"
    },
    "kernelspec": {
      "name": "python3",
      "display_name": "Python 3"
    },
    "language_info": {
      "name": "python"
    },
    "accelerator": "GPU"
  },
  "cells": [
    {
      "cell_type": "code",
      "execution_count": null,
      "metadata": {
        "id": "4uSYrlvJjdj1",
        "colab": {
          "base_uri": "https://localhost:8080/"
        },
        "outputId": "f095c5a8-73cd-4234-d6b0-78fa988bec64"
      },
      "outputs": [
        {
          "output_type": "stream",
          "name": "stdout",
          "text": [
            "Cloning into 'cloud2mesh'...\n",
            "remote: Enumerating objects: 99, done.\u001b[K\n",
            "remote: Counting objects: 100% (23/23), done.\u001b[K\n",
            "remote: Compressing objects: 100% (23/23), done.\u001b[K\n",
            "remote: Total 99 (delta 6), reused 0 (delta 0), pack-reused 76\u001b[K\n",
            "Receiving objects: 100% (99/99), 9.88 MiB | 6.81 MiB/s, done.\n",
            "Resolving deltas: 100% (25/25), done.\n",
            "/content/cloud2mesh\n"
          ]
        }
      ],
      "source": [
        "!git clone https://github.com/OUTLAOUAIT/cloud2mesh.git\n",
        "%cd cloud2mesh"
      ]
    },
    {
      "cell_type": "code",
      "source": [
        "#!pip3 install torch torchvision torchaudio --index-url https://download.pytorch.org/whl/cu118\n",
        "#!pip3 uninstall torch torchvision torchaudio\n",
        "!pip3 install torch torchvision torchaudio\n",
        "#!pip install open3d"
      ],
      "metadata": {
        "id": "2VDacMSevy_C"
      },
      "execution_count": null,
      "outputs": []
    },
    {
      "cell_type": "code",
      "source": [
        "import torch\n",
        "import numpy\n",
        "\n",
        "torch.cuda.is_available(), torch.__version__, numpy.__version__"
      ],
      "metadata": {
        "colab": {
          "base_uri": "https://localhost:8080/"
        },
        "id": "cW3zX63FxH2y",
        "outputId": "74c2320a-61bf-4eb1-a9c7-d19751a7ffce"
      },
      "execution_count": null,
      "outputs": [
        {
          "output_type": "execute_result",
          "data": {
            "text/plain": [
              "(True, '2.1.0+cu118', '1.23.5')"
            ]
          },
          "metadata": {},
          "execution_count": 1
        }
      ]
    },
    {
      "cell_type": "code",
      "source": [
        "import os\n",
        "import sys\n",
        "import torch\n",
        "need_pytorch3d=False\n",
        "try:\n",
        "    import pytorch3d\n",
        "except ModuleNotFoundError:\n",
        "    need_pytorch3d=True\n",
        "if need_pytorch3d:\n",
        "    if torch.__version__.startswith(\"2.1.\") and sys.platform.startswith(\"linux\"):\n",
        "        # We try to install PyTorch3D via a released wheel.\n",
        "        pyt_version_str=torch.__version__.split(\"+\")[0].replace(\".\", \"\")\n",
        "        version_str=\"\".join([\n",
        "            f\"py3{sys.version_info.minor}_cu\",\n",
        "            torch.version.cuda.replace(\".\",\"\"),\n",
        "            f\"_pyt{pyt_version_str}\"\n",
        "        ])\n",
        "        !pip install fvcore iopath\n",
        "        !pip install --no-index --no-cache-dir pytorch3d -f https://dl.fbaipublicfiles.com/pytorch3d/packaging/wheels/{version_str}/download.html\n",
        "    else:\n",
        "        # We try to install PyTorch3D from source.\n",
        "        !pip install 'git+https://github.com/facebookresearch/pytorch3d.git@stable'"
      ],
      "metadata": {
        "id": "2JB4xIkIj0SG"
      },
      "execution_count": null,
      "outputs": []
    },
    {
      "cell_type": "code",
      "source": [
        "%mkdir code\n",
        "%cd code\n",
        "!git clone https://github.com/hjwdzh/Manifold.git\n",
        "%cd Manifold\n",
        "%mkdir build\n",
        "%cd build\n",
        "!cmake .. -DCMAKE_BUILD_TYPE=Release\n",
        "!make"
      ],
      "metadata": {
        "id": "fdEwwFnBCNDD"
      },
      "execution_count": null,
      "outputs": []
    },
    {
      "cell_type": "code",
      "source": [
        "%cd ../../..\n",
        "#%cd /content/point2mesh"
      ],
      "metadata": {
        "id": "Y7NQlkrdAsS5",
        "colab": {
          "base_uri": "https://localhost:8080/"
        },
        "outputId": "09bfd14e-d627-4ff8-f0c0-66da9945ebfc"
      },
      "execution_count": null,
      "outputs": [
        {
          "output_type": "stream",
          "name": "stdout",
          "text": [
            "/content/cloud2mesh\n"
          ]
        }
      ]
    },
    {
      "cell_type": "code",
      "source": [
        "#!bash ./scripts/get_data.sh"
      ],
      "metadata": {
        "id": "6_iLauSNu2Fv"
      },
      "execution_count": null,
      "outputs": []
    },
    {
      "cell_type": "code",
      "source": [
        "#!bash ./scripts/examples/giraffe.sh"
      ],
      "metadata": {
        "id": "to-HCHQFu-MV"
      },
      "execution_count": null,
      "outputs": []
    },
    {
      "cell_type": "code",
      "source": [
        "!pip install plyfile"
      ],
      "metadata": {
        "id": "Sb4A767jWwWx"
      },
      "execution_count": null,
      "outputs": []
    },
    {
      "cell_type": "code",
      "source": [
        "#point cloud needs to be in ascii format\n",
        "import plyfile\n",
        "data = plyfile.PlyData.read('/content/cloud2mesh/data/lumpy_points.ply')\n",
        "data.text = True\n",
        "data.write('/content/cloud2mesh/data/lumpy_points.ply')"
      ],
      "metadata": {
        "id": "fYa1UyByWucF"
      },
      "execution_count": null,
      "outputs": []
    },
    {
      "cell_type": "code",
      "source": [
        "!python /content/cloud2mesh/main.py --input-pc /content/cloud2mesh/data/lumpy_points.ply --initial-mesh /content/cloud2mesh/data/lumpy_mesh.obj --save-path ./checkpoints/lumpy --iterations 7000"
      ],
      "metadata": {
        "id": "3LntvCK760KB"
      },
      "execution_count": null,
      "outputs": []
    },
    {
      "cell_type": "code",
      "source": [],
      "metadata": {
        "id": "4hHae2Yx-dqJ"
      },
      "execution_count": null,
      "outputs": []
    }
  ]
}